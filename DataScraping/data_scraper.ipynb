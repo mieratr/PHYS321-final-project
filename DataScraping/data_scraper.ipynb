{
 "cells": [
  {
   "cell_type": "code",
   "execution_count": 1,
   "id": "d0c0f285",
   "metadata": {},
   "outputs": [],
   "source": [
    "import requests\n",
    "from bs4 import BeautifulSoup\n",
    "import csv\n",
    "\n",
    "\n",
    "global stats\n",
    "stats = []\n",
    "global stop_factor\n",
    "global scored_tables\n",
    "global missed_tables\n",
    "global name"
   ]
  },
  {
   "cell_type": "code",
   "execution_count": 2,
   "id": "97dabae3",
   "metadata": {},
   "outputs": [],
   "source": [
    "# function retrieves links to all tables of data for a soccer player on transfermarkt\n",
    "def get_links(page):\n",
    "    global stop_factor\n",
    "    print('---start getting links---')\n",
    "    headers = {'User-Agent': \n",
    "           'Mozilla/5.0 (X11; Linux x86_64) AppleWebKit/537.36 (KHTML, like Gecko) Chrome/47.0.2526.106 Safari/537.36'}\n",
    "    response = requests.get(page, headers=headers)\n",
    "    content = BeautifulSoup(response.content, 'html.parser')\n",
    "    list_of_links = content.find_all('ul', {'class': 'tm-pagination'})\n",
    "    next_page_links = []\n",
    "    pen_scored_links = list_of_links[0].find_all('a', {'class': 'tm-pagination__link'})\n",
    "    pen_missed_links = list_of_links[1].find_all('a', {'class': 'tm-pagination__link'})\n",
    "    stop_factor = len(pen_missed_links)-2 # number of tables for pen_missed is smaller than pen_scored\n",
    "    webpage = 'https://www.transfermarkt.us'\n",
    "    for i in range(0, len(pen_scored_links)-2): # ignore next page & last page links\n",
    "        next_page_links.append(webpage + pen_scored_links[i]['href'])\n",
    "    return next_page_links"
   ]
  },
  {
   "cell_type": "code",
   "execution_count": 3,
   "id": "8819a4e8",
   "metadata": {},
   "outputs": [
    {
     "name": "stdout",
     "output_type": "stream",
     "text": [
      "---start getting links---\n"
     ]
    },
    {
     "data": {
      "text/plain": [
       "['https://www.transfermarkt.us/cristiano-ronaldo/elfmetertore/spieler/8198/saison_id//wettbewerb_id//plus/1',\n",
       " 'https://www.transfermarkt.us/cristiano-ronaldo/elfmetertore/spieler/8198/saison_id//wettbewerb_id//plus/1/page/2',\n",
       " 'https://www.transfermarkt.us/cristiano-ronaldo/elfmetertore/spieler/8198/saison_id//wettbewerb_id//plus/1/page/3',\n",
       " 'https://www.transfermarkt.us/cristiano-ronaldo/elfmetertore/spieler/8198/saison_id//wettbewerb_id//plus/1/page/4',\n",
       " 'https://www.transfermarkt.us/cristiano-ronaldo/elfmetertore/spieler/8198/saison_id//wettbewerb_id//plus/1/page/5',\n",
       " 'https://www.transfermarkt.us/cristiano-ronaldo/elfmetertore/spieler/8198/saison_id//wettbewerb_id//plus/1/page/6',\n",
       " 'https://www.transfermarkt.us/cristiano-ronaldo/elfmetertore/spieler/8198/saison_id//wettbewerb_id//plus/1/page/7',\n",
       " 'https://www.transfermarkt.us/cristiano-ronaldo/elfmetertore/spieler/8198/saison_id//wettbewerb_id//plus/1/page/8',\n",
       " 'https://www.transfermarkt.us/cristiano-ronaldo/elfmetertore/spieler/8198/saison_id//wettbewerb_id//plus/1/page/9',\n",
       " 'https://www.transfermarkt.us/cristiano-ronaldo/elfmetertore/spieler/8198/saison_id//wettbewerb_id//plus/1/page/10']"
      ]
     },
     "execution_count": 3,
     "metadata": {},
     "output_type": "execute_result"
    }
   ],
   "source": [
    "list_of_links = get_links('https://www.transfermarkt.us/cristiano-ronaldo/elfmetertore/spieler/8198/saison_id//wettbewerb_id//plus/1#verschossen')\n",
    "list_of_links"
   ]
  },
  {
   "cell_type": "code",
   "execution_count": 4,
   "id": "a93947f5",
   "metadata": {},
   "outputs": [],
   "source": [
    "def get_tables(links):\n",
    "    global scored_tables\n",
    "    scored_tables = []\n",
    "    global missed_tables\n",
    "    missed_tables = []\n",
    "    global stop_factor\n",
    "    global name\n",
    "    i = 0\n",
    "    name = links[0].split(\"/\")[3] # get the player's name\n",
    "    headers = {'User-Agent': \n",
    "           'Mozilla/5.0 (X11; Linux x86_64) AppleWebKit/537.36 (KHTML, like Gecko) Chrome/47.0.2526.106 Safari/537.36'}\n",
    "    for l in links:\n",
    "        response = requests.get(l, headers=headers)\n",
    "        content = BeautifulSoup(response.content, 'html.parser')\n",
    "        scored_tables.append(content.findAll('table')[1].findAll('tr'))\n",
    "        if i < stop_factor:\n",
    "            missed_tables.append(content.findAll('table')[3].findAll('tr'))\n",
    "            i = i + 1"
   ]
  },
  {
   "cell_type": "code",
   "execution_count": 5,
   "id": "2224bc81",
   "metadata": {},
   "outputs": [],
   "source": [
    "get_tables(list_of_links)"
   ]
  },
  {
   "cell_type": "code",
   "execution_count": 6,
   "id": "b83eb4ec",
   "metadata": {},
   "outputs": [],
   "source": [
    "def get_stats(tables, missed):\n",
    "    global stats\n",
    "    string = []\n",
    "    for table in tables: \n",
    "        for rows in table:     \n",
    "            cols = rows.find_all('td')\n",
    "            if len(cols) != 0:\n",
    "                if missed == True:\n",
    "                    string.append(0)\n",
    "                else:\n",
    "                    string.append(1)\n",
    "                i = 0\n",
    "                for col in cols:\n",
    "                    if len(col.text) > 0:\n",
    "                        string.append(col.text.strip())\n",
    "                        if i == 9:\n",
    "                            string.append('https://www.transfermarkt.us' + col.find('a').get('href'))\n",
    "                    else: \n",
    "                        string.append(col.find('a').get('title'))\n",
    "                    i = i + 1\n",
    "                stats.append(string)\n",
    "                string = []"
   ]
  },
  {
   "cell_type": "code",
   "execution_count": 7,
   "id": "01ad133e",
   "metadata": {},
   "outputs": [],
   "source": [
    "get_stats(scored_tables, False)\n",
    "get_stats(missed_tables, True)"
   ]
  },
  {
   "cell_type": "code",
   "execution_count": 21,
   "id": "6d31fa25",
   "metadata": {},
   "outputs": [
    {
     "name": "stdout",
     "output_type": "stream",
     "text": [
      "cristiano-ronaldo-data.csv done!\n"
     ]
    }
   ],
   "source": [
    "# writing to csv file\n",
    "with open(name + '-data.csv', 'w', newline='') as file:\n",
    "        writer = csv.writer(file)\n",
    "        writer.writerow(['pen-scored','season', 'competition', 'club', 'date', 'home-team','final-result','away-team', 'minute','score-before-pk','goal-keeper','goal-keeper-link'])\n",
    "        writer.writerows(stats)\n",
    "print(name + '-data.csv done!')"
   ]
  },
  {
   "cell_type": "markdown",
   "id": "c1278bde",
   "metadata": {},
   "source": [
    "## Calculate statistical information based on the player's data"
   ]
  },
  {
   "cell_type": "code",
   "execution_count": 12,
   "id": "d2cb0391",
   "metadata": {},
   "outputs": [
    {
     "data": {
      "text/html": [
       "<table border=\"1\" class=\"dataframe\">\n",
       "    <thead>\n",
       "        <tr>\n",
       "            <th>pen-scored</th> <th>season</th> <th>competition</th> <th>club</th> <th>date</th> <th>home-team</th> <th>final-result</th> <th>away-team</th> <th>minute</th> <th>score-before-pk</th> <th>goal-keeper</th> <th>goal-keeper-link</th>\n",
       "        </tr>\n",
       "    </thead>\n",
       "    <tbody>\n",
       "        <tr>\n",
       "            <td>1         </td> <td>22/23 </td> <td>Saudi Pro League   </td> <td>Al-Nassr FC      </td> <td>Apr 4, 2023 </td> <td>Al-Adalah FC       </td> <td>0:5         </td> <td>Al-Nassr FC      </td> <td>40'   </td> <td>0:1            </td> <td>Milan Mijatovic    </td> <td>https://www.transfermarkt.us/milan-mijatovic/elfmetersta ...</td>\n",
       "        </tr>\n",
       "        <tr>\n",
       "            <td>1         </td> <td>22/23 </td> <td>European Qualifiers</td> <td>Portugal         </td> <td>Mar 23, 2023</td> <td>Portugal           </td> <td>4:0         </td> <td>Liechtenstein    </td> <td>51'   </td> <td>3:0            </td> <td>Benjamin Büchel    </td> <td>https://www.transfermarkt.us/benjamin-buchel/elfmetersta ...</td>\n",
       "        </tr>\n",
       "        <tr>\n",
       "            <td>1         </td> <td>22/23 </td> <td>Saudi Pro League   </td> <td>Al-Nassr FC      </td> <td>Feb 25, 2023</td> <td>Damac FC           </td> <td>0:3         </td> <td>Al-Nassr FC      </td> <td>18'   </td> <td>0:1            </td> <td>Moustapha Zeghba   </td> <td>https://www.transfermarkt.us/moustapha-zeghba/elfmeterst ...</td>\n",
       "        </tr>\n",
       "        <tr>\n",
       "            <td>1         </td> <td>22/23 </td> <td>Saudi Pro League   </td> <td>Al-Nassr FC      </td> <td>Feb 9, 2023 </td> <td>Al-Wehda FC        </td> <td>0:4         </td> <td>Al-Nassr FC      </td> <td>53'   </td> <td>0:3            </td> <td>Abdulqaddous Attieh</td> <td>https://www.transfermarkt.us/abdulqaddous-attieh/elfmete ...</td>\n",
       "        </tr>\n",
       "        <tr>\n",
       "            <td>1         </td> <td>22/23 </td> <td>Saudi Pro League   </td> <td>Al-Nassr FC      </td> <td>Feb 3, 2023 </td> <td>Al-Fateh SC        </td> <td>2:2         </td> <td>Al-Nassr FC      </td> <td>90'   </td> <td>2:2            </td> <td>Jacob Rinne        </td> <td>https://www.transfermarkt.us/jacob-rinne/elfmeterstatist ...</td>\n",
       "        </tr>\n",
       "        <tr>\n",
       "            <td>1         </td> <td>21/22 </td> <td>2022 World Cup     </td> <td>Portugal         </td> <td>Nov 24, 2022</td> <td>Portugal           </td> <td>3:2         </td> <td>Ghana            </td> <td>65'   </td> <td>1:0            </td> <td>Lawrence Ati Zigi  </td> <td>https://www.transfermarkt.us/lawrence-ati-zigi/elfmeters ...</td>\n",
       "        </tr>\n",
       "        <tr>\n",
       "            <td>1         </td> <td>22/23 </td> <td>Europa League      </td> <td>Manchester United</td> <td>Sep 15, 2022</td> <td>FC Sheriff Tiraspol</td> <td>0:2         </td> <td>Manchester United</td> <td>39'   </td> <td>0:2            </td> <td>Maksym Koval       </td> <td>https://www.transfermarkt.us/maksym-koval/elfmeterstatis ...</td>\n",
       "        </tr>\n",
       "        <tr>\n",
       "            <td>1         </td> <td>21/22 </td> <td>Premier League     </td> <td>Manchester United</td> <td>May 2, 2022 </td> <td>Manchester United  </td> <td>3:0         </td> <td>Brentford FC     </td> <td>61'   </td> <td>2:0            </td> <td>David Raya         </td> <td>https://www.transfermarkt.us/david-raya/elfmeterstatisti ...</td>\n",
       "        </tr>\n",
       "        <tr>\n",
       "            <td>1         </td> <td>21/22 </td> <td>Premier League     </td> <td>Manchester United</td> <td>Dec 11, 2021</td> <td>Norwich City       </td> <td>0:1         </td> <td>Manchester United</td> <td>75'   </td> <td>0:1            </td> <td>Tim Krul           </td> <td>https://www.transfermarkt.us/tim-krul/elfmeterstatistik/ ...</td>\n",
       "        </tr>\n",
       "        <tr>\n",
       "            <td>1         </td> <td>21/22 </td> <td>Premier League     </td> <td>Manchester United</td> <td>Dec 2, 2021 </td> <td>Manchester United  </td> <td>3:2         </td> <td>Arsenal FC       </td> <td>70'   </td> <td>3:2            </td> <td>Aaron Ramsdale     </td> <td>https://www.transfermarkt.us/aaron-ramsdale/elfmeterstat ...</td>\n",
       "        </tr>\n",
       "    </tbody>\n",
       "</table>\n",
       "<p>... (169 rows omitted)</p>"
      ],
      "text/plain": [
       "pen-scored | season | competition         | club              | date         | home-team           | final-result | away-team         | minute | score-before-pk | goal-keeper         | goal-keeper-link\n",
       "1          | 22/23  | Saudi Pro League    | Al-Nassr FC       | Apr 4, 2023  | Al-Adalah FC        | 0:5          | Al-Nassr FC       | 40'    | 0:1             | Milan Mijatovic     | https://www.transfermarkt.us/milan-mijatovic/elfmetersta ...\n",
       "1          | 22/23  | European Qualifiers | Portugal          | Mar 23, 2023 | Portugal            | 4:0          | Liechtenstein     | 51'    | 3:0             | Benjamin Büchel     | https://www.transfermarkt.us/benjamin-buchel/elfmetersta ...\n",
       "1          | 22/23  | Saudi Pro League    | Al-Nassr FC       | Feb 25, 2023 | Damac FC            | 0:3          | Al-Nassr FC       | 18'    | 0:1             | Moustapha Zeghba    | https://www.transfermarkt.us/moustapha-zeghba/elfmeterst ...\n",
       "1          | 22/23  | Saudi Pro League    | Al-Nassr FC       | Feb 9, 2023  | Al-Wehda FC         | 0:4          | Al-Nassr FC       | 53'    | 0:3             | Abdulqaddous Attieh | https://www.transfermarkt.us/abdulqaddous-attieh/elfmete ...\n",
       "1          | 22/23  | Saudi Pro League    | Al-Nassr FC       | Feb 3, 2023  | Al-Fateh SC         | 2:2          | Al-Nassr FC       | 90'    | 2:2             | Jacob Rinne         | https://www.transfermarkt.us/jacob-rinne/elfmeterstatist ...\n",
       "1          | 21/22  | 2022 World Cup      | Portugal          | Nov 24, 2022 | Portugal            | 3:2          | Ghana             | 65'    | 1:0             | Lawrence Ati Zigi   | https://www.transfermarkt.us/lawrence-ati-zigi/elfmeters ...\n",
       "1          | 22/23  | Europa League       | Manchester United | Sep 15, 2022 | FC Sheriff Tiraspol | 0:2          | Manchester United | 39'    | 0:2             | Maksym Koval        | https://www.transfermarkt.us/maksym-koval/elfmeterstatis ...\n",
       "1          | 21/22  | Premier League      | Manchester United | May 2, 2022  | Manchester United   | 3:0          | Brentford FC      | 61'    | 2:0             | David Raya          | https://www.transfermarkt.us/david-raya/elfmeterstatisti ...\n",
       "1          | 21/22  | Premier League      | Manchester United | Dec 11, 2021 | Norwich City        | 0:1          | Manchester United | 75'    | 0:1             | Tim Krul            | https://www.transfermarkt.us/tim-krul/elfmeterstatistik/ ...\n",
       "1          | 21/22  | Premier League      | Manchester United | Dec 2, 2021  | Manchester United   | 3:2          | Arsenal FC        | 70'    | 3:2             | Aaron Ramsdale      | https://www.transfermarkt.us/aaron-ramsdale/elfmeterstat ...\n",
       "... (169 rows omitted)"
      ]
     },
     "execution_count": 12,
     "metadata": {},
     "output_type": "execute_result"
    }
   ],
   "source": [
    "from datascience import *\n",
    "import numpy as np\n",
    "data = Table.read_table(\"cristiano-ronaldo-data.csv\")\n",
    "data"
   ]
  },
  {
   "cell_type": "code",
   "execution_count": 14,
   "id": "4715283e",
   "metadata": {},
   "outputs": [],
   "source": [
    "# calculate the goalkeeper's historical save rate\n",
    "def saved_penalty_ratio(page):\n",
    "    headers = {'User-Agent': \n",
    "               'Mozilla/5.0 (X11; Linux x86_64) AppleWebKit/537.36 (KHTML, like Gecko) Chrome/47.0.2526.106 Safari/537.36'}\n",
    "    response = requests.get(page, headers=headers)\n",
    "    content = BeautifulSoup(response.content, 'html.parser')\n",
    "    h2 = content.find_all('h2', {'class': 'content-box-headline'})\n",
    "    saved_penalty = int(h2[0].text.strip().split('-')[1])\n",
    "    non_saved_penalty = int(h2[1].text.strip().split('-')[2])\n",
    "    return saved_penalty/(saved_penalty + non_saved_penalty)\n",
    "ratio = data.apply(saved_penalty_ratio, \"goal-keeper-link\")"
   ]
  },
  {
   "cell_type": "code",
   "execution_count": 19,
   "id": "c82a8d67",
   "metadata": {},
   "outputs": [],
   "source": [
    "pen_scored = data.column('pen-scored')\n",
    "rows = []\n",
    "for i in range(0,data.num_rows):\n",
    "    col = [0] * 3\n",
    "    col[0] = pen_scored[i]\n",
    "    score = data.column('score-before-pk')[i].split(\":\")\n",
    "    # calculate the goal difference before the penalty kick\n",
    "    if data.column('club')[i] == data.column('home-team')[i]:\n",
    "        col[1] = int(score[0]) - int(score[1])\n",
    "    else:\n",
    "        col[1] = int(score[1]) - int(score[0])\n",
    "    col[2] = ratio[i]\n",
    "    rows.append(col)"
   ]
  },
  {
   "cell_type": "code",
   "execution_count": 20,
   "id": "87bac6f5",
   "metadata": {},
   "outputs": [
    {
     "name": "stdout",
     "output_type": "stream",
     "text": [
      "cristiano-ronaldo-stats.csv done!\n"
     ]
    }
   ],
   "source": [
    "with open(name + '-stats.csv', 'w', newline='') as file:\n",
    "        writer = csv.writer(file)\n",
    "        writer.writerow(['pen-scored','score-diff','goal-keeper-success-rate'])\n",
    "        writer.writerows(rows)\n",
    "print(name + '-stats.csv done!')"
   ]
  }
 ],
 "metadata": {
  "kernelspec": {
   "display_name": "Python 3 (ipykernel)",
   "language": "python",
   "name": "python3"
  },
  "language_info": {
   "codemirror_mode": {
    "name": "ipython",
    "version": 3
   },
   "file_extension": ".py",
   "mimetype": "text/x-python",
   "name": "python",
   "nbconvert_exporter": "python",
   "pygments_lexer": "ipython3",
   "version": "3.9.12"
  }
 },
 "nbformat": 4,
 "nbformat_minor": 5
}
